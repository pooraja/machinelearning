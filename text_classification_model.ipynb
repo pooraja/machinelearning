{
  "nbformat": 4,
  "nbformat_minor": 0,
  "metadata": {
    "colab": {
      "name": "text classification model.ipynb",
      "provenance": [],
      "authorship_tag": "ABX9TyOhmLivTfzGDF32/Cxs4y6A",
      "include_colab_link": true
    },
    "kernelspec": {
      "name": "python3",
      "display_name": "Python 3"
    },
    "language_info": {
      "name": "python"
    }
  },
  "cells": [
    {
      "cell_type": "markdown",
      "metadata": {
        "id": "view-in-github",
        "colab_type": "text"
      },
      "source": [
        "<a href=\"https://colab.research.google.com/github/pooraja/machinelearning/blob/main/text_classification_model.ipynb\" target=\"_parent\"><img src=\"https://colab.research.google.com/assets/colab-badge.svg\" alt=\"Open In Colab\"/></a>"
      ]
    },
    {
      "cell_type": "code",
      "execution_count": null,
      "metadata": {
        "id": "AQK5PC7Q_yzi",
        "colab": {
          "base_uri": "https://localhost:8080/"
        },
        "outputId": "0c5c5450-fd95-45f5-d10e-476aeb90d695"
      },
      "outputs": [
        {
          "output_type": "execute_result",
          "data": {
            "text/plain": [
              "['alt.atheism',\n",
              " 'comp.graphics',\n",
              " 'comp.os.ms-windows.misc',\n",
              " 'comp.sys.ibm.pc.hardware',\n",
              " 'comp.sys.mac.hardware',\n",
              " 'comp.windows.x',\n",
              " 'misc.forsale',\n",
              " 'rec.autos',\n",
              " 'rec.motorcycles',\n",
              " 'rec.sport.baseball',\n",
              " 'rec.sport.hockey',\n",
              " 'sci.crypt',\n",
              " 'sci.electronics',\n",
              " 'sci.med',\n",
              " 'sci.space',\n",
              " 'soc.religion.christian',\n",
              " 'talk.politics.guns',\n",
              " 'talk.politics.mideast',\n",
              " 'talk.politics.misc',\n",
              " 'talk.religion.misc']"
            ]
          },
          "metadata": {},
          "execution_count": 3
        }
      ],
      "source": [
        "#loading the necessary libraries\n",
        "\n",
        "%matplotlib inline\n",
        "import numpy as np\n",
        "import matplotlib.pyplot as plt\n",
        "import seaborn as sns; sns.set()\n",
        "from sklearn.datasets import fetch_20newsgroups\n",
        "data = fetch_20newsgroups()\n",
        "data.target_names"
      ]
    },
    {
      "cell_type": "code",
      "source": [
        "\n",
        "categories = ['alt.atheism','comp.graphics','comp.os.ms-windows.misc',\n",
        " 'comp.sys.ibm.pc.hardware',\n",
        " 'comp.sys.mac.hardware',\n",
        " 'comp.windows.x',\n",
        " 'misc.forsale',\n",
        " 'rec.autos',\n",
        " 'rec.motorcycles',\n",
        " 'rec.sport.baseball',\n",
        " 'rec.sport.hockey',\n",
        " 'sci.crypt',\n",
        " 'sci.electronics',\n",
        " 'sci.med',\n",
        " 'sci.space',\n",
        " 'soc.religion.christian',\n",
        " 'talk.politics.guns',\n",
        " 'talk.politics.mideast',\n",
        " 'talk.politics.misc',\n",
        " 'talk.religion.misc']\n",
        "# Training the data on these categories\n",
        "train = fetch_20newsgroups(subset='train',categories=categories)\n",
        "# Testing the data for these categories\n",
        "test = fetch_20newsgroups(subset='test',categories=categories)\n",
        "\n",
        "# printing training data\n",
        "print(train.data[5])"
      ],
      "metadata": {
        "colab": {
          "base_uri": "https://localhost:8080/"
        },
        "id": "VFzsZGxkDBR_",
        "outputId": "2d4daf3e-b7ee-4019-bfa1-043ac570a37b"
      },
      "execution_count": null,
      "outputs": [
        {
          "output_type": "stream",
          "name": "stdout",
          "text": [
            "From: dfo@vttoulu.tko.vtt.fi (Foxvog Douglas)\n",
            "Subject: Re: Rewording the Second Amendment (ideas)\n",
            "Organization: VTT\n",
            "Lines: 58\n",
            "\n",
            "In article <1r1eu1$4t@transfer.stratus.com> cdt@sw.stratus.com (C. D. Tavares) writes:\n",
            ">In article <1993Apr20.083057.16899@ousrvr.oulu.fi>, dfo@vttoulu.tko.vtt.fi (Foxvog Douglas) writes:\n",
            ">> In article <1qv87v$4j3@transfer.stratus.com> cdt@sw.stratus.com (C. D. Tavares) writes:\n",
            ">> >In article <C5n3GI.F8F@ulowell.ulowell.edu>, jrutledg@cs.ulowell.edu (John Lawrence Rutledge) writes:\n",
            ">\n",
            ">> >> The massive destructive power of many modern weapons, makes the\n",
            ">> >> cost of an accidental or crimial usage of these weapons to great.\n",
            ">> >> The weapons of mass destruction need to be in the control of\n",
            ">> >> the government only.  Individual access would result in the\n",
            ">> >> needless deaths of millions.  This makes the right of the people\n",
            ">> >> to keep and bear many modern weapons non-existant.\n",
            "\n",
            ">> >Thanks for stating where you're coming from.  Needless to say, I\n",
            ">> >disagree on every count.\n",
            "\n",
            ">> You believe that individuals should have the right to own weapons of\n",
            ">> mass destruction?  I find it hard to believe that you would support a \n",
            ">> neighbor's right to keep nuclear weapons, biological weapons, and nerve\n",
            ">> gas on his/her property.  \n",
            "\n",
            ">> If we cannot even agree on keeping weapons of mass destruction out of\n",
            ">> the hands of individuals, can there be any hope for us?\n",
            "\n",
            ">I don't sign any blank checks.\n",
            "\n",
            "Of course.  The term must be rigidly defined in any bill.\n",
            "\n",
            ">When Doug Foxvog says \"weapons of mass destruction,\" he means CBW and\n",
            ">nukes.  When Sarah Brady says \"weapons of mass destruction\" she means\n",
            ">Street Sweeper shotguns and semi-automatic SKS rifles.  \n",
            "\n",
            "I doubt she uses this term for that.  You are using a quote allegedly\n",
            "from her, can you back it up?\n",
            "\n",
            ">When John\n",
            ">Lawrence Rutledge says \"weapons of mass destruction,\" and then immediately\n",
            ">follows it with:\n",
            "\n",
            ">>> The US has thousands of people killed each year by handguns,\n",
            ">>> this number can easily be reduced by putting reasonable restrictions\n",
            ">>> on them.\n",
            "\n",
            ">...what does Rutledge mean by the term?\n",
            "\n",
            "I read the article as presenting first an argument about weapons of mass\n",
            "destruction (as commonly understood) and then switching to other topics.\n",
            "The first point evidently was to show that not all weapons should be\n",
            "allowed, and then the later analysis was, given this understanding, to\n",
            "consider another class.\n",
            "\n",
            ">cdt@rocket.sw.stratus.com   --If you believe that I speak for my company,\n",
            ">OR cdt@vos.stratus.com        write today for my special Investors' Packet...\n",
            "\n",
            "\n",
            "\n",
            "-- \n",
            "doug foxvog\n",
            "douglas.foxvog@vtt.fi\n",
            "\n"
          ]
        }
      ]
    },
    {
      "cell_type": "code",
      "source": [
        "#Importing necessary packages\n",
        "from sklearn.feature_extraction.text import TfidfVectorizer\n",
        "from sklearn.naive_bayes import MultinomialNB\n",
        "from sklearn.pipeline import make_pipeline\n",
        "#Creating a model based on multinomial Navie bayes\n",
        "model = make_pipeline(TfidfVectorizer(),MultinomialNB())\n",
        "#Training the model with the train data\n",
        "model.fit(train.data,train.target)\n",
        "#creating lables for the test data\n",
        "labels = model.predict(test.data)\n",
        "\n"
      ],
      "metadata": {
        "id": "Och68bj8FI4u"
      },
      "execution_count": null,
      "outputs": []
    },
    {
      "cell_type": "code",
      "source": [
        "#Creating confusion matrix and heat map\n",
        "from sklearn.metrics import confusion_matrix\n",
        "mat = confusion_matrix(test.target,labels)\n",
        "sns.heatmap(mat.T,square=True,annot=True,fmt='d',cbar=False,xticklabels=train.target_names,yticklabels=train.target_names)\n",
        "#Plotting heatmap of confusion matrix\n",
        "plt.xlabel('true label')\n",
        "plt.ylabel('predicted label')"
      ],
      "metadata": {
        "id": "fdFKgK7SIXjj"
      },
      "execution_count": null,
      "outputs": []
    },
    {
      "cell_type": "code",
      "source": [
        "# Predicting category on new data based on trained model\n",
        "def predict_category (s, train=train,model=model) :\n",
        "  pred=model.predict([s])\n",
        "  return train.target_names[pred[0]]"
      ],
      "metadata": {
        "id": "GrkVIekdM4FP",
        "colab": {
          "base_uri": "https://localhost:8080/",
          "height": 217
        },
        "outputId": "c63b30c6-92c9-448c-9772-2ffa19cb9693"
      },
      "execution_count": null,
      "outputs": [
        {
          "output_type": "error",
          "ename": "NameError",
          "evalue": "ignored",
          "traceback": [
            "\u001b[0;31m---------------------------------------------------------------------------\u001b[0m",
            "\u001b[0;31mNameError\u001b[0m                                 Traceback (most recent call last)",
            "\u001b[0;32m<ipython-input-2-0f9935d4920f>\u001b[0m in \u001b[0;36m<module>\u001b[0;34m()\u001b[0m\n\u001b[1;32m      1\u001b[0m \u001b[0;31m# Predicting category on new data based on trained model\u001b[0m\u001b[0;34m\u001b[0m\u001b[0;34m\u001b[0m\u001b[0;34m\u001b[0m\u001b[0m\n\u001b[0;32m----> 2\u001b[0;31m \u001b[0;32mdef\u001b[0m \u001b[0mpredict_category\u001b[0m \u001b[0;34m(\u001b[0m\u001b[0ms\u001b[0m\u001b[0;34m,\u001b[0m \u001b[0mtrain\u001b[0m\u001b[0;34m=\u001b[0m\u001b[0mtrain\u001b[0m\u001b[0;34m,\u001b[0m\u001b[0mmodel\u001b[0m\u001b[0;34m=\u001b[0m\u001b[0mmodel\u001b[0m\u001b[0;34m)\u001b[0m \u001b[0;34m:\u001b[0m\u001b[0;34m\u001b[0m\u001b[0;34m\u001b[0m\u001b[0m\n\u001b[0m\u001b[1;32m      3\u001b[0m   \u001b[0mpred\u001b[0m\u001b[0;34m=\u001b[0m\u001b[0mmodel\u001b[0m\u001b[0;34m.\u001b[0m\u001b[0mpredict\u001b[0m\u001b[0;34m(\u001b[0m\u001b[0;34m[\u001b[0m\u001b[0ms\u001b[0m\u001b[0;34m]\u001b[0m\u001b[0;34m)\u001b[0m\u001b[0;34m\u001b[0m\u001b[0;34m\u001b[0m\u001b[0m\n\u001b[1;32m      4\u001b[0m   \u001b[0;32mreturn\u001b[0m \u001b[0mtrain\u001b[0m\u001b[0;34m.\u001b[0m\u001b[0mtarget_names\u001b[0m\u001b[0;34m[\u001b[0m\u001b[0mpred\u001b[0m\u001b[0;34m[\u001b[0m\u001b[0;36m0\u001b[0m\u001b[0;34m]\u001b[0m\u001b[0;34m]\u001b[0m\u001b[0;34m\u001b[0m\u001b[0;34m\u001b[0m\u001b[0m\n",
            "\u001b[0;31mNameError\u001b[0m: name 'train' is not defined"
          ]
        }
      ]
    },
    {
      "cell_type": "code",
      "source": [
        "predict_category('Jesus Christ')"
      ],
      "metadata": {
        "colab": {
          "base_uri": "https://localhost:8080/",
          "height": 35
        },
        "id": "5opdYml5N6jr",
        "outputId": "0cabf5db-c98d-484e-f7e8-5612b9720067"
      },
      "execution_count": null,
      "outputs": [
        {
          "output_type": "execute_result",
          "data": {
            "text/plain": [
              "'soc.religion.christian'"
            ],
            "application/vnd.google.colaboratory.intrinsic+json": {
              "type": "string"
            }
          },
          "metadata": {},
          "execution_count": 16
        }
      ]
    },
    {
      "cell_type": "code",
      "source": [
        "predict_category('president of india')"
      ],
      "metadata": {
        "colab": {
          "base_uri": "https://localhost:8080/",
          "height": 35
        },
        "id": "_g9a4EXFOxSq",
        "outputId": "42d15535-1e43-4a6d-a991-db2efea7bed6"
      },
      "execution_count": null,
      "outputs": [
        {
          "output_type": "execute_result",
          "data": {
            "text/plain": [
              "'talk.politics.misc'"
            ],
            "application/vnd.google.colaboratory.intrinsic+json": {
              "type": "string"
            }
          },
          "metadata": {},
          "execution_count": 17
        }
      ]
    },
    {
      "cell_type": "code",
      "source": [
        "predict_category('is jawa a better motorcycle')"
      ],
      "metadata": {
        "colab": {
          "base_uri": "https://localhost:8080/",
          "height": 35
        },
        "id": "ZA3f0PX4PNua",
        "outputId": "a3d0e04d-c9ea-4051-aca7-b3365e434025"
      },
      "execution_count": null,
      "outputs": [
        {
          "output_type": "execute_result",
          "data": {
            "text/plain": [
              "'rec.motorcycles'"
            ],
            "application/vnd.google.colaboratory.intrinsic+json": {
              "type": "string"
            }
          },
          "metadata": {},
          "execution_count": 20
        }
      ]
    },
    {
      "cell_type": "code",
      "source": [
        "predict_category('facebook forms a good community ')"
      ],
      "metadata": {
        "colab": {
          "base_uri": "https://localhost:8080/",
          "height": 165
        },
        "id": "jHAuWxB7PgOJ",
        "outputId": "2878882e-840a-4fb9-bec4-b0a8f7104a47"
      },
      "execution_count": null,
      "outputs": [
        {
          "output_type": "error",
          "ename": "NameError",
          "evalue": "ignored",
          "traceback": [
            "\u001b[0;31m---------------------------------------------------------------------------\u001b[0m",
            "\u001b[0;31mNameError\u001b[0m                                 Traceback (most recent call last)",
            "\u001b[0;32m<ipython-input-1-271bdf05f367>\u001b[0m in \u001b[0;36m<module>\u001b[0;34m()\u001b[0m\n\u001b[0;32m----> 1\u001b[0;31m \u001b[0mpredict_category\u001b[0m\u001b[0;34m(\u001b[0m\u001b[0;34m'facebook forms a good community '\u001b[0m\u001b[0;34m)\u001b[0m\u001b[0;34m\u001b[0m\u001b[0;34m\u001b[0m\u001b[0m\n\u001b[0m",
            "\u001b[0;31mNameError\u001b[0m: name 'predict_category' is not defined"
          ]
        }
      ]
    }
  ]
}